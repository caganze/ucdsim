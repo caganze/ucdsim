{
 "cells": [
  {
   "cell_type": "code",
   "execution_count": 1,
   "metadata": {},
   "outputs": [
    {
     "name": "stdout",
     "output_type": "stream",
     "text": [
      "\n",
      "Warning: spectrum object has a flux vector of zero length - maybe empty?\n",
      "\n",
      "Warning: normalize is attempting to divide by nan; ignoring\n",
      "\n",
      "Warning: spectrum object has a flux vector of zero length - maybe empty?\n",
      "\n",
      "Warning: normalize is attempting to divide by nan; ignoring\n"
     ]
    }
   ],
   "source": [
    "#import pystan nevermind no general interpolation function\n",
    "import pymc3 as pm\n",
    "import os\n",
    "import numpy as np\n",
    "import matplotlib.pyplot as plt\n",
    "import pandas as pd\n",
    "import splat\n",
    "from scipy import interpolate\n",
    "import theano.tensor as tt\n",
    "from theano.compile.ops import as_op\n",
    "from scipy.interpolate import griddata\n",
    "import wisps\n",
    "import theano"
   ]
  },
  {
   "cell_type": "markdown",
   "metadata": {},
   "source": [
    "### Purpose: Make UCD evolutionary models interpolations in pymc\n",
    "\n",
    "**Towards a full Bayesian hierchical modelling of UCD mass function**\n",
    "\n",
    "Rough graphical model\n",
    "- $\\alpha$ ~ Uniform\n",
    "- M &larr; Powerlaw($\\alpha$)\n",
    "- Age ~ Uniform\n",
    "- Teff &larr; (M, Age)\n",
    "- SpT &larr; Teff\n",
    "- $\\phi$ &larr; SpT, V\n"
   ]
  },
  {
   "cell_type": "code",
   "execution_count": 2,
   "metadata": {},
   "outputs": [],
   "source": [
    "#modelfile='../splines.stan'\n",
    "datafile='/users/caganze/desktop/burrows2001.csv'\n",
    "burrows=pd.read_csv(datafile)"
   ]
  },
  {
   "cell_type": "code",
   "execution_count": 10,
   "metadata": {},
   "outputs": [],
   "source": [
    "@as_op(itypes=[tt.dscalar, tt.dscalar], otypes=[tt.dmatrix])\n",
    "def custom_interpolation_mass_age(mass, age):\n",
    "    \"\"\"\n",
    "    Interpolation function using burrow's models and scipy interpolate\n",
    "    All this wrapped in theano tensors \n",
    "    \n",
    "    Input: mass, age\n",
    "    Output: teff\n",
    "    \"\"\"\n",
    "    points=np.array([burrows.mass.values, burrows.age.values]).T\n",
    "    valuest=burrows.temperature.values\n",
    "    valueslogg=burrows.gravity.values\n",
    "    teff = griddata(points,valuest , (mass, age), method='linear')\n",
    "    logg = griddata(points,valueslogg , (mass, age), method='linear')\n",
    "    return  np.matrix([teff, logg]).astype(\"float64\").T\n",
    "\n",
    "#@as_op(itypes=[tt.dscalar], otypes=[tt.dscalar])\n",
    "def splat_teff_to_spt(teff):\n",
    "    \"\"\"\n",
    "    Interpolatiom function using the Pecaut relation\n",
    "    Input: teff\n",
    "    Output: SpT\n",
    "    \"\"\"\n",
    "    rel=splat.SPT_TEFF_RELATIONS['pecaut']\n",
    "    spt_sorted_idx=np.argsort(rel['values'])\n",
    "    return np.interp(teff, np.array(rel['values'])[spt_sorted_idx], np.array(rel['spt'])[spt_sorted_idx])"
   ]
  },
  {
   "cell_type": "code",
   "execution_count": 4,
   "metadata": {},
   "outputs": [],
   "source": [
    "def galaxy_density_function(r, z, h=300.):\n",
    "    \n",
    "    \"\"\"\n",
    "    A custom juric density function that only uses numpy arrays for speed\n",
    "    All units are in pc\n",
    "    \"\"\"\n",
    "    l = 2600. # radial length scale of exponential thin disk \n",
    "    \n",
    "    zpart=(1./np.cosh(abs(z-Zsun)/(2*h)))**2\n",
    "    rpart=np.exp(-(r-Rsun)/h)\n",
    "    return zpart*rpart\n",
    "\n",
    "def logpdistance(r, z, d):\n",
    "    return np.log((d**2)*density_function(r, z, h))\n",
    "    \n",
    "def logpmass(m, alpha):\n",
    "    #a boring powerlaw\n",
    "    return np.log(np.power(m, -alpha))\n"
   ]
  },
  {
   "cell_type": "code",
   "execution_count": 5,
   "metadata": {},
   "outputs": [],
   "source": [
    "def phi(teffs):\n",
    "    #return luminosity function in a given temperature range \n",
    "    #scaled to davy kirkpatrick 2019\n",
    "    #return luminosity\n",
    "    pass"
   ]
  },
  {
   "cell_type": "code",
   "execution_count": 6,
   "metadata": {},
   "outputs": [
    {
     "name": "stderr",
     "output_type": "stream",
     "text": [
      "Multiprocess sampling (2 chains in 2 jobs)\n",
      "CompoundStep\n",
      ">Metropolis: [age]\n",
      ">Metropolis: [m]\n",
      ">Metropolis: [alpha]\n",
      "Sampling 2 chains: 100%|██████████| 3000/3000 [00:26<00:00, 113.00draws/s]\n",
      "The number of effective samples is smaller than 25% for some parameters.\n"
     ]
    }
   ],
   "source": [
    "with pm.Model() as model:\n",
    "\n",
    "    alpha=pm.Uniform('alpha', lower=-1, upper=1)\n",
    "    \n",
    "    m=pm.Uniform('m', lower=np.nanmin(burrows.mass.values), upper=0.1)\n",
    "    \n",
    "    age=pm.Uniform('age', lower=np.nanmin(burrows.age.values), upper=np.nanmax(burrows.age.values))\n",
    "    \n",
    "    tefflogg=pm.Deterministic('tg', custom_interpolation_mass_age(m, age))  \n",
    "    \n",
    "    like = pm.DensityDist('like', logpmass, observed={'m': m, 'alpha': alpha})\n",
    "    \n",
    "    #phi=pm.Deterministic\n",
    "    \n",
    "   # N=Deterministic('N', phi*)\n",
    "    \n",
    "    trace = pm.sample(draws=1000, cores=2, step=pm.Metropolis())\n",
    "    \n",
    "    \n",
    "    \n",
    "\n"
   ]
  },
  {
   "cell_type": "code",
   "execution_count": 7,
   "metadata": {},
   "outputs": [
    {
     "data": {
      "text/plain": [
       "array([[ 220.9522457 ,  217.33939107, 1148.74526062, ..., 1319.96227802,\n",
       "        2152.37697827, 2806.1542668 ],\n",
       "       [   4.31277282,    4.31368138,    5.41618845, ...,    5.49963793,\n",
       "           5.39792479,    5.31215709]])"
      ]
     },
     "execution_count": 7,
     "metadata": {},
     "output_type": "execute_result"
    }
   ],
   "source": [
    "np.concatenate(trace.tg, axis=1)"
   ]
  },
  {
   "cell_type": "code",
   "execution_count": 8,
   "metadata": {},
   "outputs": [
    {
     "data": {
      "image/png": "[encoded data removed]",
      "text/plain": [
       "<Figure size 432x288 with 1 Axes>"
      ]
     },
     "metadata": {
      "needs_background": "light"
     },
     "output_type": "display_data"
    }
   ],
   "source": [
    "plt.scatter(np.concatenate(trace.tg[:,0]), np.concatenate(trace.tg[:,1]), c=trace.age, s=1.)\n",
    "plt.gca().invert_xaxis()"
   ]
  },
  {
   "cell_type": "code",
   "execution_count": 11,
   "metadata": {},
   "outputs": [
    {
     "data": {
      "image/png": "[encoded data removed]",
      "text/plain": [
       "<Figure size 432x288 with 1 Axes>"
      ]
     },
     "metadata": {
      "needs_background": "light"
     },
     "output_type": "display_data"
    }
   ],
   "source": [
    "h=plt.hist(splat_teff_to_spt(np.concatenate(trace.tg[:,0])), histtype='step', bins='auto')"
   ]
  },
  {
   "cell_type": "code",
   "execution_count": null,
   "metadata": {},
   "outputs": [],
   "source": []
  }
 ],
 "metadata": {
  "kernelspec": {
   "display_name": "Python 3",
   "language": "python",
   "name": "python3"
  },
  "language_info": {
   "codemirror_mode": {
    "name": "ipython",
    "version": 3
   },
   "file_extension": ".py",
   "mimetype": "text/x-python",
   "name": "python",
   "nbconvert_exporter": "python",
   "pygments_lexer": "ipython3",
   "version": "3.7.3"
  }
 },
 "nbformat": 4,
 "nbformat_minor": 4
}
